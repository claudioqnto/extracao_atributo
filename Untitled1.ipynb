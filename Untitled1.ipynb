{
 "cells": [
  {
   "cell_type": "markdown",
   "id": "ee1377dc",
   "metadata": {},
   "source": [
    "EXTRAÇÃO DE ATRIBUTOS \n",
    "Alunos: Cláudio Nascimento e Luciano \n",
    "Objetivos: \n",
    "\n",
    "1 - Análise tempo-frequência utilizando STFT e janelas da ordem de 30ms, Observe e comente os efeitos no espectrograma de variar o tipo de janela e o intervalo de tempo entre janelas adjacentes; \n",
    "2 - Varie a largura da janela entre 10 e 100 ms, observe e comente as diferenças entre os espectrogramas obtidos; \n",
    "3 - Execute uma decomposição DWT com 8 níveis utilizando a função Daubechies 4 como wavelet-mãe, plote os sinais (original e 8 níveis de decomposição) em uma mesma janela, observe, comente e compare com os resultados obtidos na STFT"
   ]
  },
  {
   "cell_type": "markdown",
   "id": "1ba532de",
   "metadata": {},
   "source": [
    "Instalação de bibliotecas python : scipy 1.10.1, librosa 0.10.1, pyemd 1.0.0, PyWavelets 1.4.1"
   ]
  },
  {
   "cell_type": "code",
   "execution_count": null,
   "id": "408edc25",
   "metadata": {},
   "outputs": [],
   "source": [
    "!python -m pip install scipy"
   ]
  },
  {
   "cell_type": "code",
   "execution_count": null,
   "id": "6e11ef49",
   "metadata": {},
   "outputs": [],
   "source": [
    "!python -m pip install PyWavelets"
   ]
  },
  {
   "cell_type": "code",
   "execution_count": null,
   "id": "6f04b734",
   "metadata": {},
   "outputs": [],
   "source": [
    "!python -m pip install librosa"
   ]
  },
  {
   "cell_type": "code",
   "execution_count": null,
   "id": "8176b631",
   "metadata": {},
   "outputs": [],
   "source": [
    "!pip install pyemd"
   ]
  },
  {
   "cell_type": "markdown",
   "id": "df91f499",
   "metadata": {},
   "source": [
    "Importando Bibliotecas para uso na aplicação"
   ]
  },
  {
   "cell_type": "code",
   "execution_count": null,
   "id": "4676145a",
   "metadata": {},
   "outputs": [],
   "source": [
    "import numpy as np\n",
    "import librosa\n",
    "import librosa.display as ld\n",
    "import matplotlib.pyplot as plt\n",
    "from IPython.display import Audio\n",
    "import requests\n",
    "import pywt\n",
    "from scipy.signal import hilbert\n",
    "from pyemd import emd\n",
    "from IPython.display import Audio"
   ]
  },
  {
   "cell_type": "markdown",
   "id": "53d8751f",
   "metadata": {},
   "source": [
    "Lendo arquivo de audio do PC com biblioteca librosa, exibindo diplay e forma de onda no domínio do tempo"
   ]
  },
  {
   "cell_type": "code",
   "execution_count": null,
   "id": "a3b7df8c",
   "metadata": {},
   "outputs": [],
   "source": [
    "audio = 'C:\\\\Users\\\\claud\\Desktop\\\\Extracao_atributos\\\\inspire.mp3'#localização do arquivo mp3 no PC\n",
    "audio_data, frequency_sample = librosa.load(audio, sr=None) #Dados e Frequencia de amostragem\n",
    "#y, sr = librosa.load(audio, sr=None)\n",
    "print(f'Frequência de Amostragem: {frequency_sample}')\n",
    "plt.figure(figsize=(14,2))\n",
    "ld.waveshow(audio_data,sr=frequency_sample) \n",
    "Audio(audio_data, rate=frequency_sample)"
   ]
  },
  {
   "cell_type": "markdown",
   "id": "8eecdf9b",
   "metadata": {},
   "source": [
    "1 - Análise tempo-frequência utilizando Transformada de Fourier de curta duração(STFT) e janelas da ordem de 30ms, Observe e comente os efeitos no espectrograma de variar o tipo de janela e o intervalo de tempo entre janelas adjacentes; \n",
    "Definindo intervalo de amostra 30ms e tempo entre janelas de 10ms por meio do hop_length, claculando STFT e exibindo janela"
   ]
  },
  {
   "cell_type": "code",
   "execution_count": null,
   "id": "9c1dc08f",
   "metadata": {},
   "outputs": [],
   "source": [
    "#Janelas da ordem de 30ms\n",
    "window_size = int(0.03 * frequency_sample)\n",
    "hop_length = int(frequency_sample * 0.01)\n",
    "# Analisando Transformada de Fourier de curta duração(STFT)\n",
    "stft = librosa.stft(audio_data, n_fft=window_size, hop_length=hop_length)\n",
    "stft_db = librosa.amplitude_to_db(np.abs(stft), ref=np.max)\n",
    "# Exibir janelas\n",
    "plt.figure(figsize=(10, 6))\n",
    "librosa.display.specshow(stft_db, sr=frequency_sample, hop_length=hop_length, x_axis='time')\n",
    "plt.colorbar(format='%+2.0f dB')\n",
    "plt.title(f'STFT: {window_type} window, {window_size} samples window size, {hop_length} sample between windows')\n",
    "plt.show()"
   ]
  },
  {
   "cell_type": "code",
   "execution_count": null,
   "id": "5672e25c",
   "metadata": {},
   "outputs": [],
   "source": []
  },
  {
   "cell_type": "code",
   "execution_count": null,
   "id": "e0be599e",
   "metadata": {},
   "outputs": [],
   "source": []
  }
 ],
 "metadata": {
  "kernelspec": {
   "display_name": "Python 3 (ipykernel)",
   "language": "python",
   "name": "python3"
  },
  "language_info": {
   "codemirror_mode": {
    "name": "ipython",
    "version": 3
   },
   "file_extension": ".py",
   "mimetype": "text/x-python",
   "name": "python",
   "nbconvert_exporter": "python",
   "pygments_lexer": "ipython3",
   "version": "3.11.4"
  }
 },
 "nbformat": 4,
 "nbformat_minor": 5
}
